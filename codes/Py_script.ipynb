{
 "cells": [
  {
   "cell_type": "code",
   "execution_count": 8,
   "metadata": {},
   "outputs": [],
   "source": [
    "import numpy as np \n",
    "import pandas as pd \n",
    "import os \n",
    "import glob \n",
    "from datetime import datetime\n",
    "import matplotlib.pyplot as plt \n",
    "import xlrd\n",
    "import plotly.graph_objects as go\n",
    "import plotly.express as px"
   ]
  },
  {
   "cell_type": "code",
   "execution_count": 2,
   "metadata": {},
   "outputs": [],
   "source": [
    "data1 = pd.read_csv(\"data1.csv\",na_values=\"--\")"
   ]
  },
  {
   "cell_type": "code",
   "execution_count": 3,
   "metadata": {},
   "outputs": [],
   "source": [
    "# Remove data \n",
    "data1.drop(columns=['Favorite','Flow','Grit','Min Temp','Surface Interval','Decompression','Max Temp','Bottom Time'],inplace=True)\n",
    "\n",
    "# Format data\n",
    "data1['Date'] = pd.to_datetime(data1['Date'], format=\"%d/%m/%Y %H:%M\")\n",
    "\n",
    "# set of variables to adjust time for \n",
    "time_vars = ['Time','Best Lap Time','Avg Pace','Best Pace','Climb Time']\n",
    "\n",
    "data1[time_vars]=data1[time_vars].astype('str')\n",
    "\n",
    "# remove miliseconds\n",
    "def foo3(arg):\n",
    "    if \".\" in arg:\n",
    "        return(arg[:-2])\n",
    "    else:\n",
    "        return(arg)\n",
    "data1[time_vars] = data1[time_vars].applymap(lambda x: foo3(x))\n",
    "\n",
    "# remove end zeros on climb time\n",
    "def foo4(arg):\n",
    "    if len(arg)==8:\n",
    "        return(arg[:-3])\n",
    "    else:\n",
    "        return(arg)\n",
    "data1['Climb Time'] = data1['Climb Time'].map(lambda x: foo4(x))\n",
    "\n",
    "# express all as hh:mm:ss\n",
    "def foo2(arg):\n",
    "    if len(arg) == 5:\n",
    "        return('00:'+ arg)\n",
    "    else:\n",
    "        return(arg)\n",
    "    \n",
    "data1[time_vars] = data1[time_vars].applymap(lambda x: foo2(x))\n",
    "\n",
    "for i in time_vars:\n",
    "    data1[i] = pd.to_timedelta(data1[i])\n",
    "    \n",
    "# Filter only running \n",
    "data1 = data1[data1['Activity Type']==\"Running\"]\n"
   ]
  },
  {
   "cell_type": "code",
   "execution_count": 192,
   "metadata": {},
   "outputs": [
    {
     "ename": "KeyError",
     "evalue": "'00:04:50'",
     "output_type": "error",
     "traceback": [
      "\u001b[0;31m---------------------------------------------------------------------------\u001b[0m",
      "\u001b[0;31mKeyError\u001b[0m                                  Traceback (most recent call last)",
      "\u001b[0;32m<ipython-input-192-452162dc867c>\u001b[0m in \u001b[0;36m<module>\u001b[0;34m\u001b[0m\n\u001b[1;32m     14\u001b[0m \u001b[0;32mfor\u001b[0m \u001b[0mj\u001b[0m \u001b[0;32min\u001b[0m \u001b[0mrange\u001b[0m\u001b[0;34m(\u001b[0m\u001b[0;36m1\u001b[0m\u001b[0;34m,\u001b[0m\u001b[0mlen\u001b[0m\u001b[0;34m(\u001b[0m\u001b[0mtime_vars\u001b[0m\u001b[0;34m)\u001b[0m\u001b[0;34m)\u001b[0m\u001b[0;34m:\u001b[0m\u001b[0;34m\u001b[0m\u001b[0;34m\u001b[0m\u001b[0m\n\u001b[1;32m     15\u001b[0m     \u001b[0;32mfor\u001b[0m \u001b[0mi\u001b[0m \u001b[0;32min\u001b[0m \u001b[0mdata1\u001b[0m\u001b[0;34m[\u001b[0m\u001b[0mtime_vars\u001b[0m\u001b[0;34m[\u001b[0m\u001b[0mj\u001b[0m\u001b[0;34m]\u001b[0m\u001b[0;34m]\u001b[0m\u001b[0;34m:\u001b[0m\u001b[0;34m\u001b[0m\u001b[0;34m\u001b[0m\u001b[0m\n\u001b[0;32m---> 16\u001b[0;31m         \u001b[0;32mif\u001b[0m \u001b[0mlen\u001b[0m\u001b[0;34m(\u001b[0m\u001b[0mdata1\u001b[0m\u001b[0;34m[\u001b[0m\u001b[0mtime_vars\u001b[0m\u001b[0;34m[\u001b[0m\u001b[0mj\u001b[0m\u001b[0;34m]\u001b[0m\u001b[0;34m]\u001b[0m\u001b[0;34m[\u001b[0m\u001b[0mi\u001b[0m\u001b[0;34m]\u001b[0m\u001b[0;34m)\u001b[0m \u001b[0;34m==\u001b[0m \u001b[0;36m7\u001b[0m\u001b[0;34m:\u001b[0m\u001b[0;34m\u001b[0m\u001b[0;34m\u001b[0m\u001b[0m\n\u001b[0m\u001b[1;32m     17\u001b[0m             \u001b[0mdata1\u001b[0m\u001b[0;34m[\u001b[0m\u001b[0mtime_vars\u001b[0m\u001b[0;34m[\u001b[0m\u001b[0mj\u001b[0m\u001b[0;34m]\u001b[0m\u001b[0;34m]\u001b[0m\u001b[0;34m[\u001b[0m\u001b[0mi\u001b[0m\u001b[0;34m]\u001b[0m \u001b[0;34m=\u001b[0m \u001b[0mdata1\u001b[0m\u001b[0;34m[\u001b[0m\u001b[0mtime_vars\u001b[0m\u001b[0;34m[\u001b[0m\u001b[0mj\u001b[0m\u001b[0;34m]\u001b[0m\u001b[0;34m]\u001b[0m\u001b[0;34m[\u001b[0m\u001b[0mi\u001b[0m\u001b[0;34m]\u001b[0m\u001b[0;34m[\u001b[0m\u001b[0;34m:\u001b[0m\u001b[0;36m6\u001b[0m\u001b[0;34m]\u001b[0m \u001b[0;34m+\u001b[0m \u001b[0;34m'0'\u001b[0m \u001b[0;34m+\u001b[0m \u001b[0mdata1\u001b[0m\u001b[0;34m[\u001b[0m\u001b[0mtime_vars\u001b[0m\u001b[0;34m[\u001b[0m\u001b[0mj\u001b[0m\u001b[0;34m]\u001b[0m\u001b[0;34m]\u001b[0m\u001b[0;34m[\u001b[0m\u001b[0mi\u001b[0m\u001b[0;34m]\u001b[0m\u001b[0;34m[\u001b[0m\u001b[0;36m7\u001b[0m\u001b[0;34m:\u001b[0m\u001b[0;34m]\u001b[0m\u001b[0;34m\u001b[0m\u001b[0;34m\u001b[0m\u001b[0m\n\u001b[1;32m     18\u001b[0m \u001b[0;34m\u001b[0m\u001b[0m\n",
      "\u001b[0;32m~/.pyenv/versions/3.9.0/lib/python3.9/site-packages/pandas/core/series.py\u001b[0m in \u001b[0;36m__getitem__\u001b[0;34m(self, key)\u001b[0m\n\u001b[1;32m    880\u001b[0m \u001b[0;34m\u001b[0m\u001b[0m\n\u001b[1;32m    881\u001b[0m         \u001b[0;32melif\u001b[0m \u001b[0mkey_is_scalar\u001b[0m\u001b[0;34m:\u001b[0m\u001b[0;34m\u001b[0m\u001b[0;34m\u001b[0m\u001b[0m\n\u001b[0;32m--> 882\u001b[0;31m             \u001b[0;32mreturn\u001b[0m \u001b[0mself\u001b[0m\u001b[0;34m.\u001b[0m\u001b[0m_get_value\u001b[0m\u001b[0;34m(\u001b[0m\u001b[0mkey\u001b[0m\u001b[0;34m)\u001b[0m\u001b[0;34m\u001b[0m\u001b[0;34m\u001b[0m\u001b[0m\n\u001b[0m\u001b[1;32m    883\u001b[0m \u001b[0;34m\u001b[0m\u001b[0m\n\u001b[1;32m    884\u001b[0m         \u001b[0;32mif\u001b[0m \u001b[0mis_hashable\u001b[0m\u001b[0;34m(\u001b[0m\u001b[0mkey\u001b[0m\u001b[0;34m)\u001b[0m\u001b[0;34m:\u001b[0m\u001b[0;34m\u001b[0m\u001b[0;34m\u001b[0m\u001b[0m\n",
      "\u001b[0;32m~/.pyenv/versions/3.9.0/lib/python3.9/site-packages/pandas/core/series.py\u001b[0m in \u001b[0;36m_get_value\u001b[0;34m(self, label, takeable)\u001b[0m\n\u001b[1;32m    987\u001b[0m \u001b[0;34m\u001b[0m\u001b[0m\n\u001b[1;32m    988\u001b[0m         \u001b[0;31m# Similar to Index.get_value, but we do not fall back to positional\u001b[0m\u001b[0;34m\u001b[0m\u001b[0;34m\u001b[0m\u001b[0;34m\u001b[0m\u001b[0m\n\u001b[0;32m--> 989\u001b[0;31m         \u001b[0mloc\u001b[0m \u001b[0;34m=\u001b[0m \u001b[0mself\u001b[0m\u001b[0;34m.\u001b[0m\u001b[0mindex\u001b[0m\u001b[0;34m.\u001b[0m\u001b[0mget_loc\u001b[0m\u001b[0;34m(\u001b[0m\u001b[0mlabel\u001b[0m\u001b[0;34m)\u001b[0m\u001b[0;34m\u001b[0m\u001b[0;34m\u001b[0m\u001b[0m\n\u001b[0m\u001b[1;32m    990\u001b[0m         \u001b[0;32mreturn\u001b[0m \u001b[0mself\u001b[0m\u001b[0;34m.\u001b[0m\u001b[0mindex\u001b[0m\u001b[0;34m.\u001b[0m\u001b[0m_get_values_for_loc\u001b[0m\u001b[0;34m(\u001b[0m\u001b[0mself\u001b[0m\u001b[0;34m,\u001b[0m \u001b[0mloc\u001b[0m\u001b[0;34m,\u001b[0m \u001b[0mlabel\u001b[0m\u001b[0;34m)\u001b[0m\u001b[0;34m\u001b[0m\u001b[0;34m\u001b[0m\u001b[0m\n\u001b[1;32m    991\u001b[0m \u001b[0;34m\u001b[0m\u001b[0m\n",
      "\u001b[0;32m~/.pyenv/versions/3.9.0/lib/python3.9/site-packages/pandas/core/indexes/range.py\u001b[0m in \u001b[0;36mget_loc\u001b[0;34m(self, key, method, tolerance)\u001b[0m\n\u001b[1;32m    356\u001b[0m                 \u001b[0;32mexcept\u001b[0m \u001b[0mValueError\u001b[0m \u001b[0;32mas\u001b[0m \u001b[0merr\u001b[0m\u001b[0;34m:\u001b[0m\u001b[0;34m\u001b[0m\u001b[0;34m\u001b[0m\u001b[0m\n\u001b[1;32m    357\u001b[0m                     \u001b[0;32mraise\u001b[0m \u001b[0mKeyError\u001b[0m\u001b[0;34m(\u001b[0m\u001b[0mkey\u001b[0m\u001b[0;34m)\u001b[0m \u001b[0;32mfrom\u001b[0m \u001b[0merr\u001b[0m\u001b[0;34m\u001b[0m\u001b[0;34m\u001b[0m\u001b[0m\n\u001b[0;32m--> 358\u001b[0;31m             \u001b[0;32mraise\u001b[0m \u001b[0mKeyError\u001b[0m\u001b[0;34m(\u001b[0m\u001b[0mkey\u001b[0m\u001b[0;34m)\u001b[0m\u001b[0;34m\u001b[0m\u001b[0;34m\u001b[0m\u001b[0m\n\u001b[0m\u001b[1;32m    359\u001b[0m         \u001b[0;32mreturn\u001b[0m \u001b[0msuper\u001b[0m\u001b[0;34m(\u001b[0m\u001b[0;34m)\u001b[0m\u001b[0;34m.\u001b[0m\u001b[0mget_loc\u001b[0m\u001b[0;34m(\u001b[0m\u001b[0mkey\u001b[0m\u001b[0;34m,\u001b[0m \u001b[0mmethod\u001b[0m\u001b[0;34m=\u001b[0m\u001b[0mmethod\u001b[0m\u001b[0;34m,\u001b[0m \u001b[0mtolerance\u001b[0m\u001b[0;34m=\u001b[0m\u001b[0mtolerance\u001b[0m\u001b[0;34m)\u001b[0m\u001b[0;34m\u001b[0m\u001b[0;34m\u001b[0m\u001b[0m\n\u001b[1;32m    360\u001b[0m \u001b[0;34m\u001b[0m\u001b[0m\n",
      "\u001b[0;31mKeyError\u001b[0m: '00:04:50'"
     ]
    }
   ],
   "source": [
    "            \n",
    "\n"
   ]
  },
  {
   "cell_type": "code",
   "execution_count": 4,
   "metadata": {},
   "outputs": [
    {
     "data": {
      "image/png": "[encoded data removed]",
      "text/plain": [
       "<Figure size 432x288 with 1 Axes>"
      ]
     },
     "metadata": {
      "needs_background": "light"
     },
     "output_type": "display_data"
    }
   ],
   "source": [
    "plt.bar(data1['Date'],data1['Time'])\n",
    "plt.ylabel('some numbers')\n",
    "plt.show()"
   ]
  },
  {
   "cell_type": "code",
   "execution_count": 14,
   "metadata": {},
   "outputs": [
    {
     "data": {
      "application/vnd.plotly.v1+json": {
       "config": {
        "plotlyServerURL": "https://plot.ly"
       },
       "data": [
        {
         "hovertemplate": "Date=%{x}<br>Time=%{y}<extra></extra>",
         "legendgroup": "",
         "marker": {
          "color": "#636efa",
          "symbol": "circle"
         },
         "mode": "markers",
         "name": "",
         "orientation": "v",
         "showlegend": false,
         "type": "scatter",
         "x": [
          "2021-01-27T13:39:00",
          "2021-01-24T08:51:00",
          "2021-01-23T12:25:00",
          "2021-01-22T13:31:00",
          "2021-01-21T13:03:00",
          "2021-01-19T13:33:00",
          "2021-01-18T13:22:00",
          "2021-01-17T09:33:00",
          "2021-01-15T16:02:00",
          "2021-01-13T13:35:00",
          "2021-01-12T13:35:00",
          "2021-01-11T12:59:00",
          "2021-01-10T09:37:00",
          "2021-01-09T09:21:00",
          "2021-01-07T13:29:00",
          "2021-01-05T07:50:00",
          "2021-01-03T09:48:00",
          "2021-01-02T09:20:00",
          "2021-01-01T09:37:00",
          "2020-12-31T09:24:00",
          "2020-12-30T09:28:00",
          "2020-12-29T10:00:00",
          "2020-12-28T08:43:00",
          "2020-12-27T12:16:00",
          "2020-12-26T12:37:00",
          "2020-12-25T09:06:00",
          "2020-12-24T07:29:00",
          "2020-12-23T07:30:00",
          "2020-12-22T07:35:00",
          "2020-12-20T08:18:00",
          "2020-12-19T08:24:00",
          "2020-12-17T07:35:00",
          "2020-12-16T07:27:00",
          "2020-12-13T08:00:00",
          "2020-12-12T08:41:00",
          "2020-12-11T07:24:00",
          "2020-12-10T07:25:00",
          "2020-12-09T07:24:00",
          "2020-12-06T14:26:00",
          "2020-12-05T09:46:00",
          "2020-12-04T13:33:00",
          "2020-12-02T07:22:00",
          "2020-12-01T07:25:00",
          "2020-11-29T08:45:00",
          "2020-11-27T07:27:00",
          "2020-11-25T07:22:00",
          "2020-11-24T07:33:00",
          "2020-11-22T09:44:00",
          "2020-11-21T08:30:00",
          "2020-11-20T07:28:00",
          "2020-11-18T07:26:00",
          "2020-11-16T07:35:00",
          "2020-11-11T08:31:00",
          "2020-11-09T09:44:00",
          "2020-11-08T08:29:00",
          "2020-11-07T08:25:00",
          "2020-11-04T14:31:00",
          "2020-11-01T08:17:00",
          "2020-10-29T07:53:00",
          "2020-10-28T08:41:00",
          "2020-10-27T09:47:00",
          "2020-10-24T07:53:00",
          "2020-10-23T07:23:00",
          "2020-10-22T07:24:00",
          "2020-10-21T18:06:00",
          "2020-10-20T18:12:00",
          "2020-10-18T11:21:00",
          "2020-10-17T08:28:00",
          "2020-10-16T07:27:00",
          "2020-10-15T07:28:00",
          "2020-10-14T07:22:00",
          "2020-10-13T07:30:00",
          "2020-10-11T08:30:00",
          "2020-10-10T08:21:00",
          "2020-10-09T07:11:00",
          "2020-10-08T07:24:00",
          "2020-10-07T07:22:00",
          "2020-10-06T07:28:00",
          "2020-10-04T16:21:00",
          "2020-10-03T12:27:00",
          "2020-10-02T07:24:00",
          "2020-10-01T17:46:00",
          "2020-09-30T07:30:00",
          "2020-09-29T18:30:00",
          "2020-09-27T08:43:00",
          "2020-09-26T09:11:00",
          "2020-09-25T18:35:00",
          "2020-09-24T18:17:00",
          "2020-09-23T07:24:00",
          "2020-09-22T11:32:00",
          "2020-09-18T07:13:00",
          "2020-09-17T07:22:00",
          "2020-09-16T18:25:00",
          "2020-09-15T07:16:00",
          "2020-09-13T08:32:00",
          "2020-09-12T07:55:00",
          "2020-09-11T18:20:00",
          "2020-09-09T18:25:00",
          "2020-09-08T07:38:00",
          "2020-09-06T08:35:00",
          "2020-09-05T08:05:00",
          "2020-09-04T18:27:00",
          "2020-09-03T18:25:00",
          "2020-09-02T18:23:00",
          "2020-09-01T07:28:00",
          "2020-08-31T09:33:00",
          "2020-08-29T09:22:00",
          "2020-08-28T07:29:00",
          "2020-08-27T07:26:00",
          "2020-08-24T18:31:00",
          "2020-08-23T08:37:00",
          "2020-08-18T07:55:00",
          "2020-08-17T08:11:00",
          "2020-08-16T14:46:00",
          "2020-08-15T19:01:00",
          "2020-08-14T18:39:00",
          "2020-08-08T08:25:00",
          "2020-08-06T07:32:00",
          "2020-08-05T07:30:00",
          "2020-08-04T07:24:00",
          "2020-08-03T18:20:00",
          "2020-08-01T09:14:00",
          "2020-07-31T07:21:00",
          "2020-07-30T07:31:00",
          "2020-07-28T17:54:00",
          "2020-07-27T07:31:00",
          "2020-07-25T08:36:00",
          "2020-07-24T18:38:00",
          "2020-07-23T07:26:00",
          "2020-07-22T18:09:00",
          "2020-07-21T07:31:00",
          "2020-07-19T08:49:00",
          "2020-07-18T08:32:00",
          "2020-07-17T18:37:00",
          "2020-07-16T18:24:00",
          "2020-07-13T18:37:00",
          "2020-07-12T08:32:00",
          "2020-07-11T08:35:00",
          "2020-07-09T18:24:00",
          "2020-07-07T18:21:00",
          "2020-07-06T18:17:00",
          "2020-07-05T11:43:00",
          "2020-07-04T09:34:00",
          "2020-07-03T18:32:00",
          "2020-07-02T18:07:00",
          "2020-06-30T18:04:00",
          "2020-06-29T21:38:00",
          "2020-06-21T12:07:00",
          "2020-06-20T08:40:00",
          "2020-06-18T18:21:00",
          "2020-06-16T18:21:00",
          "2020-06-15T18:28:00",
          "2020-06-14T08:39:00",
          "2020-06-13T17:46:00",
          "2020-06-11T17:34:00",
          "2020-06-10T19:00:00",
          "2020-06-09T07:38:00",
          "2020-06-08T18:29:00",
          "2020-06-07T08:34:00",
          "2020-06-06T08:20:00",
          "2020-06-05T07:31:00",
          "2020-06-04T07:28:00",
          "2020-06-02T07:34:00",
          "2020-06-01T07:21:00",
          "2020-05-31T08:16:00",
          "2020-05-30T08:18:00",
          "2020-05-29T07:32:00",
          "2020-05-28T07:20:00",
          "2020-05-27T18:22:00",
          "2020-05-25T08:17:00",
          "2020-05-24T08:34:00",
          "2020-05-23T09:22:00",
          "2020-05-23T08:24:00",
          "2020-05-22T07:34:00",
          "2020-05-21T18:43:00",
          "2020-05-20T07:35:00",
          "2020-05-19T18:29:00",
          "2020-05-18T18:23:00",
          "2020-05-16T08:38:00",
          "2020-05-15T18:17:00",
          "2020-05-14T18:30:00",
          "2020-05-13T18:17:00",
          "2020-05-12T18:18:00",
          "2020-05-11T18:28:00",
          "2020-05-10T08:34:00",
          "2020-05-09T08:20:00",
          "2020-05-08T08:33:00",
          "2020-05-07T07:38:00",
          "2020-05-06T10:43:00",
          "2020-05-05T18:20:00",
          "2020-05-04T18:30:00",
          "2020-05-03T08:52:00",
          "2020-05-02T08:36:00",
          "2020-05-01T07:54:00",
          "2020-04-30T07:26:00",
          "2020-04-29T07:14:00",
          "2020-04-28T13:44:00",
          "2020-04-27T19:48:00",
          "2020-04-26T08:49:00",
          "2020-04-25T08:43:00",
          "2020-04-24T18:03:00",
          "2020-04-23T08:01:00",
          "2020-04-22T18:08:00",
          "2020-04-21T18:27:00",
          "2020-04-20T18:13:00",
          "2020-04-20T12:47:00",
          "2020-04-19T09:21:00",
          "2020-04-18T12:32:00",
          "2020-04-16T17:43:00",
          "2020-04-15T18:27:00",
          "2020-04-14T18:21:00",
          "2020-04-13T12:55:00",
          "2020-04-12T10:54:00",
          "2020-04-11T08:50:00",
          "2020-04-10T08:59:00",
          "2020-04-09T17:40:00",
          "2020-04-08T07:27:00",
          "2020-04-07T08:19:00",
          "2020-04-06T08:05:00",
          "2020-04-05T08:54:00",
          "2020-04-04T08:18:00",
          "2020-04-03T18:06:00",
          "2020-04-01T17:40:00",
          "2020-03-31T12:58:00",
          "2020-03-30T16:58:00",
          "2020-03-29T11:41:00",
          "2020-03-28T09:59:00",
          "2020-03-27T07:51:00",
          "2020-03-26T16:33:00",
          "2020-03-25T16:30:00",
          "2020-03-24T16:41:00",
          "2020-03-22T16:43:00",
          "2020-03-21T13:04:00",
          "2020-03-15T11:26:00",
          "2020-03-14T09:05:00",
          "2020-03-14T08:10:00",
          "2020-03-08T08:31:00",
          "2020-03-07T08:45:00",
          "2020-03-01T09:05:00",
          "2020-02-29T09:09:00",
          "2020-02-29T08:06:00",
          "2020-02-23T09:09:00",
          "2020-02-22T09:07:00",
          "2020-02-22T08:17:00",
          "2020-02-16T09:32:00",
          "2020-02-15T09:04:00",
          "2020-02-15T08:19:00",
          "2020-02-09T15:45:00",
          "2020-02-08T09:08:00",
          "2020-02-08T08:17:00",
          "2020-02-02T08:41:00",
          "2020-02-01T09:09:00",
          "2020-02-01T08:52:00",
          "2020-02-01T08:19:00",
          "2020-01-26T15:17:00",
          "2020-01-25T09:06:00",
          "2020-01-25T08:21:00",
          "2020-01-11T09:06:00",
          "2020-01-05T09:08:00",
          "2020-01-04T09:06:00",
          "2020-01-01T11:04:00",
          "2020-01-01T10:35:00",
          "2020-01-01T08:59:00"
         ],
         "xaxis": "x",
         "y": [
          1786000000000,
          1925000000000,
          3321000000000,
          1794000000000,
          1744000000000,
          1584000000000,
          1740000000000,
          3249000000000,
          3461000000000,
          1551000000000,
          1897000000000,
          1832000000000,
          3373000000000,
          3337000000000,
          1941000000000,
          1955000000000,
          1941000000000,
          3386000000000,
          1909000000000,
          3481000000000,
          1947000000000,
          3393000000000,
          1962000000000,
          3393000000000,
          1889000000000,
          3283000000000,
          1918000000000,
          1924000000000,
          1901000000000,
          3370000000000,
          3354000000000,
          1932000000000,
          1919000000000,
          1895000000000,
          3405000000000,
          1879000000000,
          1895000000000,
          1895000000000,
          2352000000000,
          3320000000000,
          3326000000000,
          1882000000000,
          1885000000000,
          3230000000000,
          1874000000000,
          1864000000000,
          1858000000000,
          2013000000000,
          3213000000000,
          1839000000000,
          1129000000000,
          1104000000000,
          3249000000000,
          3251000000000,
          3172000000000,
          3198000000000,
          3217000000000,
          3238000000000,
          3219000000000,
          3235000000000,
          1941000000000,
          3280000000000,
          1908000000000,
          1888000000000,
          1709000000000,
          1903000000000,
          2071000000000,
          3276000000000,
          1887000000000,
          1888000000000,
          1895000000000,
          1892000000000,
          3270000000000,
          3299000000000,
          1871000000000,
          1887000000000,
          1886000000000,
          1866000000000,
          1744000000000,
          3338000000000,
          1851000000000,
          1832000000000,
          1853000000000,
          1859000000000,
          3225000000000,
          3265000000000,
          1978000000000,
          1843000000000,
          1861000000000,
          1880000000000,
          1851000000000,
          1868000000000,
          1983000000000,
          1838000000000,
          3270000000000,
          1802000000000,
          2775000000000,
          1859000000000,
          1829000000000,
          3248000000000,
          2627000000000,
          1912000000000,
          1929000000000,
          1853000000000,
          1868000000000,
          3275000000000,
          3237000000000,
          1870000000000,
          1855000000000,
          1855000000000,
          2797000000000,
          756000000000,
          2305000000000,
          2361000000000,
          1857000000000,
          1825000000000,
          3572000000000,
          1862000000000,
          1847000000000,
          1845000000000,
          1831000000000,
          3121000000000,
          1843000000000,
          1865000000000,
          1810000000000,
          1749000000000,
          3230000000000,
          1848000000000,
          1826000000000,
          1825000000000,
          1823000000000,
          3224000000000,
          3221000000000,
          1138000000000,
          1865000000000,
          1808000000000,
          3237000000000,
          3246000000000,
          1823000000000,
          1840000000000,
          1975000000000,
          2621000000000,
          2704000000000,
          1832000000000,
          1804000000000,
          1788000000000,
          1087000000000,
          3279000000000,
          3322000000000,
          1798000000000,
          1802000000000,
          1976000000000,
          3255000000000,
          2605000000000,
          1756000000000,
          1195000000000,
          2002000000000,
          1810000000000,
          3319000000000,
          3218000000000,
          1987000000000,
          1843000000000,
          1987000000000,
          1996000000000,
          3227000000000,
          3222000000000,
          1840000000000,
          1994000000000,
          1839000000000,
          2796000000000,
          3286000000000,
          1000000000,
          3291000000000,
          1860000000000,
          1472000000000,
          1871000000000,
          1603000000000,
          1653000000000,
          3282000000000,
          1950000000000,
          1476000000000,
          2005000000000,
          1885000000000,
          1986000000000,
          3234000000000,
          2749000000000,
          3214000000000,
          1819000000000,
          1839000000000,
          2365000000000,
          1892000000000,
          3263000000000,
          3245000000000,
          1887000000000,
          1892000000000,
          1601000000000,
          1911000000000,
          2014000000000,
          3273000000000,
          3299000000000,
          1824000000000,
          2554000000000,
          2002000000000,
          1859000000000,
          1607000000000,
          1252000000000,
          3116000000000,
          1785000000000,
          1830000000000,
          1749000000000,
          1998000000000,
          1873000000000,
          3138000000000,
          2570000000000,
          2788000000000,
          1808000000000,
          1840000000000,
          1890000000000,
          2768000000000,
          1892000000000,
          2373000000000,
          1835000000000,
          2386000000000,
          1867000000000,
          1947000000000,
          2001000000000,
          1832000000000,
          1834000000000,
          2113000000000,
          1817000000000,
          2059000000000,
          1966000000000,
          1855000000000,
          1993000000000,
          1478000000000,
          1258000000000,
          1982000000000,
          1690000000000,
          2593000000000,
          1482000000000,
          873000000000,
          2374000000000,
          1483000000000,
          881000000000,
          2598000000000,
          1464000000000,
          860000000000,
          1969000000000,
          1474000000000,
          856000000000,
          1966000000000,
          1469000000000,
          277000000000,
          746000000000,
          1968000000000,
          1468000000000,
          625000000000,
          1496000000000,
          2007000000000,
          1534000000000,
          871000000000,
          1559000000000,
          1585000000000
         ],
         "yaxis": "y"
        }
       ],
       "layout": {
        "autosize": true,
        "legend": {
         "tracegroupgap": 0
        },
        "margin": {
         "t": 60
        },
        "template": {
         "data": {
          "bar": [
           {
            "error_x": {
             "color": "#2a3f5f"
            },
            "error_y": {
             "color": "#2a3f5f"
            },
            "marker": {
             "line": {
              "color": "#E5ECF6",
              "width": 0.5
             }
            },
            "type": "bar"
           }
          ],
          "barpolar": [
           {
            "marker": {
             "line": {
              "color": "#E5ECF6",
              "width": 0.5
             }
            },
            "type": "barpolar"
           }
          ],
          "carpet": [
           {
            "aaxis": {
             "endlinecolor": "#2a3f5f",
             "gridcolor": "white",
             "linecolor": "white",
             "minorgridcolor": "white",
             "startlinecolor": "#2a3f5f"
            },
            "baxis": {
             "endlinecolor": "#2a3f5f",
             "gridcolor": "white",
             "linecolor": "white",
             "minorgridcolor": "white",
             "startlinecolor": "#2a3f5f"
            },
            "type": "carpet"
           }
          ],
          "choropleth": [
           {
            "colorbar": {
             "outlinewidth": 0,
             "ticks": ""
            },
            "type": "choropleth"
           }
          ],
          "contour": [
           {
            "colorbar": {
             "outlinewidth": 0,
             "ticks": ""
            },
            "colorscale": [
             [
              0,
              "#0d0887"
             ],
             [
              0.1111111111111111,
              "#46039f"
             ],
             [
              0.2222222222222222,
              "#7201a8"
             ],
             [
              0.3333333333333333,
              "#9c179e"
             ],
             [
              0.4444444444444444,
              "#bd3786"
             ],
             [
              0.5555555555555556,
              "#d8576b"
             ],
             [
              0.6666666666666666,
              "#ed7953"
             ],
             [
              0.7777777777777778,
              "#fb9f3a"
             ],
             [
              0.8888888888888888,
              "#fdca26"
             ],
             [
              1,
              "#f0f921"
             ]
            ],
            "type": "contour"
           }
          ],
          "contourcarpet": [
           {
            "colorbar": {
             "outlinewidth": 0,
             "ticks": ""
            },
            "type": "contourcarpet"
           }
          ],
          "heatmap": [
           {
            "colorbar": {
             "outlinewidth": 0,
             "ticks": ""
            },
            "colorscale": [
             [
              0,
              "#0d0887"
             ],
             [
              0.1111111111111111,
              "#46039f"
             ],
             [
              0.2222222222222222,
              "#7201a8"
             ],
             [
              0.3333333333333333,
              "#9c179e"
             ],
             [
              0.4444444444444444,
              "#bd3786"
             ],
             [
              0.5555555555555556,
              "#d8576b"
             ],
             [
              0.6666666666666666,
              "#ed7953"
             ],
             [
              0.7777777777777778,
              "#fb9f3a"
             ],
             [
              0.8888888888888888,
              "#fdca26"
             ],
             [
              1,
              "#f0f921"
             ]
            ],
            "type": "heatmap"
           }
          ],
          "heatmapgl": [
           {
            "colorbar": {
             "outlinewidth": 0,
             "ticks": ""
            },
            "colorscale": [
             [
              0,
              "#0d0887"
             ],
             [
              0.1111111111111111,
              "#46039f"
             ],
             [
              0.2222222222222222,
              "#7201a8"
             ],
             [
              0.3333333333333333,
              "#9c179e"
             ],
             [
              0.4444444444444444,
              "#bd3786"
             ],
             [
              0.5555555555555556,
              "#d8576b"
             ],
             [
              0.6666666666666666,
              "#ed7953"
             ],
             [
              0.7777777777777778,
              "#fb9f3a"
             ],
             [
              0.8888888888888888,
              "#fdca26"
             ],
             [
              1,
              "#f0f921"
             ]
            ],
            "type": "heatmapgl"
           }
          ],
          "histogram": [
           {
            "marker": {
             "colorbar": {
              "outlinewidth": 0,
              "ticks": ""
             }
            },
            "type": "histogram"
           }
          ],
          "histogram2d": [
           {
            "colorbar": {
             "outlinewidth": 0,
             "ticks": ""
            },
            "colorscale": [
             [
              0,
              "#0d0887"
             ],
             [
              0.1111111111111111,
              "#46039f"
             ],
             [
              0.2222222222222222,
              "#7201a8"
             ],
             [
              0.3333333333333333,
              "#9c179e"
             ],
             [
              0.4444444444444444,
              "#bd3786"
             ],
             [
              0.5555555555555556,
              "#d8576b"
             ],
             [
              0.6666666666666666,
              "#ed7953"
             ],
             [
              0.7777777777777778,
              "#fb9f3a"
             ],
             [
              0.8888888888888888,
              "#fdca26"
             ],
             [
              1,
              "#f0f921"
             ]
            ],
            "type": "histogram2d"
           }
          ],
          "histogram2dcontour": [
           {
            "colorbar": {
             "outlinewidth": 0,
             "ticks": ""
            },
            "colorscale": [
             [
              0,
              "#0d0887"
             ],
             [
              0.1111111111111111,
              "#46039f"
             ],
             [
              0.2222222222222222,
              "#7201a8"
             ],
             [
              0.3333333333333333,
              "#9c179e"
             ],
             [
              0.4444444444444444,
              "#bd3786"
             ],
             [
              0.5555555555555556,
              "#d8576b"
             ],
             [
              0.6666666666666666,
              "#ed7953"
             ],
             [
              0.7777777777777778,
              "#fb9f3a"
             ],
             [
              0.8888888888888888,
              "#fdca26"
             ],
             [
              1,
              "#f0f921"
             ]
            ],
            "type": "histogram2dcontour"
           }
          ],
          "mesh3d": [
           {
            "colorbar": {
             "outlinewidth": 0,
             "ticks": ""
            },
            "type": "mesh3d"
           }
          ],
          "parcoords": [
           {
            "line": {
             "colorbar": {
              "outlinewidth": 0,
              "ticks": ""
             }
            },
            "type": "parcoords"
           }
          ],
          "pie": [
           {
            "automargin": true,
            "type": "pie"
           }
          ],
          "scatter": [
           {
            "marker": {
             "colorbar": {
              "outlinewidth": 0,
              "ticks": ""
             }
            },
            "type": "scatter"
           }
          ],
          "scatter3d": [
           {
            "line": {
             "colorbar": {
              "outlinewidth": 0,
              "ticks": ""
             }
            },
            "marker": {
             "colorbar": {
              "outlinewidth": 0,
              "ticks": ""
             }
            },
            "type": "scatter3d"
           }
          ],
          "scattercarpet": [
           {
            "marker": {
             "colorbar": {
              "outlinewidth": 0,
              "ticks": ""
             }
            },
            "type": "scattercarpet"
           }
          ],
          "scattergeo": [
           {
            "marker": {
             "colorbar": {
              "outlinewidth": 0,
              "ticks": ""
             }
            },
            "type": "scattergeo"
           }
          ],
          "scattergl": [
           {
            "marker": {
             "colorbar": {
              "outlinewidth": 0,
              "ticks": ""
             }
            },
            "type": "scattergl"
           }
          ],
          "scattermapbox": [
           {
            "marker": {
             "colorbar": {
              "outlinewidth": 0,
              "ticks": ""
             }
            },
            "type": "scattermapbox"
           }
          ],
          "scatterpolar": [
           {
            "marker": {
             "colorbar": {
              "outlinewidth": 0,
              "ticks": ""
             }
            },
            "type": "scatterpolar"
           }
          ],
          "scatterpolargl": [
           {
            "marker": {
             "colorbar": {
              "outlinewidth": 0,
              "ticks": ""
             }
            },
            "type": "scatterpolargl"
           }
          ],
          "scatterternary": [
           {
            "marker": {
             "colorbar": {
              "outlinewidth": 0,
              "ticks": ""
             }
            },
            "type": "scatterternary"
           }
          ],
          "surface": [
           {
            "colorbar": {
             "outlinewidth": 0,
             "ticks": ""
            },
            "colorscale": [
             [
              0,
              "#0d0887"
             ],
             [
              0.1111111111111111,
              "#46039f"
             ],
             [
              0.2222222222222222,
              "#7201a8"
             ],
             [
              0.3333333333333333,
              "#9c179e"
             ],
             [
              0.4444444444444444,
              "#bd3786"
             ],
             [
              0.5555555555555556,
              "#d8576b"
             ],
             [
              0.6666666666666666,
              "#ed7953"
             ],
             [
              0.7777777777777778,
              "#fb9f3a"
             ],
             [
              0.8888888888888888,
              "#fdca26"
             ],
             [
              1,
              "#f0f921"
             ]
            ],
            "type": "surface"
           }
          ],
          "table": [
           {
            "cells": {
             "fill": {
              "color": "#EBF0F8"
             },
             "line": {
              "color": "white"
             }
            },
            "header": {
             "fill": {
              "color": "#C8D4E3"
             },
             "line": {
              "color": "white"
             }
            },
            "type": "table"
           }
          ]
         },
         "layout": {
          "annotationdefaults": {
           "arrowcolor": "#2a3f5f",
           "arrowhead": 0,
           "arrowwidth": 1
          },
          "autotypenumbers": "strict",
          "coloraxis": {
           "colorbar": {
            "outlinewidth": 0,
            "ticks": ""
           }
          },
          "colorscale": {
           "diverging": [
            [
             0,
             "#8e0152"
            ],
            [
             0.1,
             "#c51b7d"
            ],
            [
             0.2,
             "#de77ae"
            ],
            [
             0.3,
             "#f1b6da"
            ],
            [
             0.4,
             "#fde0ef"
            ],
            [
             0.5,
             "#f7f7f7"
            ],
            [
             0.6,
             "#e6f5d0"
            ],
            [
             0.7,
             "#b8e186"
            ],
            [
             0.8,
             "#7fbc41"
            ],
            [
             0.9,
             "#4d9221"
            ],
            [
             1,
             "#276419"
            ]
           ],
           "sequential": [
            [
             0,
             "#0d0887"
            ],
            [
             0.1111111111111111,
             "#46039f"
            ],
            [
             0.2222222222222222,
             "#7201a8"
            ],
            [
             0.3333333333333333,
             "#9c179e"
            ],
            [
             0.4444444444444444,
             "#bd3786"
            ],
            [
             0.5555555555555556,
             "#d8576b"
            ],
            [
             0.6666666666666666,
             "#ed7953"
            ],
            [
             0.7777777777777778,
             "#fb9f3a"
            ],
            [
             0.8888888888888888,
             "#fdca26"
            ],
            [
             1,
             "#f0f921"
            ]
           ],
           "sequentialminus": [
            [
             0,
             "#0d0887"
            ],
            [
             0.1111111111111111,
             "#46039f"
            ],
            [
             0.2222222222222222,
             "#7201a8"
            ],
            [
             0.3333333333333333,
             "#9c179e"
            ],
            [
             0.4444444444444444,
             "#bd3786"
            ],
            [
             0.5555555555555556,
             "#d8576b"
            ],
            [
             0.6666666666666666,
             "#ed7953"
            ],
            [
             0.7777777777777778,
             "#fb9f3a"
            ],
            [
             0.8888888888888888,
             "#fdca26"
            ],
            [
             1,
             "#f0f921"
            ]
           ]
          },
          "colorway": [
           "#636efa",
           "#EF553B",
           "#00cc96",
           "#ab63fa",
           "#FFA15A",
           "#19d3f3",
           "#FF6692",
           "#B6E880",
           "#FF97FF",
           "#FECB52"
          ],
          "font": {
           "color": "#2a3f5f"
          },
          "geo": {
           "bgcolor": "white",
           "lakecolor": "white",
           "landcolor": "#E5ECF6",
           "showlakes": true,
           "showland": true,
           "subunitcolor": "white"
          },
          "hoverlabel": {
           "align": "left"
          },
          "hovermode": "closest",
          "mapbox": {
           "style": "light"
          },
          "paper_bgcolor": "white",
          "plot_bgcolor": "#E5ECF6",
          "polar": {
           "angularaxis": {
            "gridcolor": "white",
            "linecolor": "white",
            "ticks": ""
           },
           "bgcolor": "#E5ECF6",
           "radialaxis": {
            "gridcolor": "white",
            "linecolor": "white",
            "ticks": ""
           }
          },
          "scene": {
           "xaxis": {
            "backgroundcolor": "#E5ECF6",
            "gridcolor": "white",
            "gridwidth": 2,
            "linecolor": "white",
            "showbackground": true,
            "ticks": "",
            "zerolinecolor": "white"
           },
           "yaxis": {
            "backgroundcolor": "#E5ECF6",
            "gridcolor": "white",
            "gridwidth": 2,
            "linecolor": "white",
            "showbackground": true,
            "ticks": "",
            "zerolinecolor": "white"
           },
           "zaxis": {
            "backgroundcolor": "#E5ECF6",
            "gridcolor": "white",
            "gridwidth": 2,
            "linecolor": "white",
            "showbackground": true,
            "ticks": "",
            "zerolinecolor": "white"
           }
          },
          "shapedefaults": {
           "line": {
            "color": "#2a3f5f"
           }
          },
          "ternary": {
           "aaxis": {
            "gridcolor": "white",
            "linecolor": "white",
            "ticks": ""
           },
           "baxis": {
            "gridcolor": "white",
            "linecolor": "white",
            "ticks": ""
           },
           "bgcolor": "#E5ECF6",
           "caxis": {
            "gridcolor": "white",
            "linecolor": "white",
            "ticks": ""
           }
          },
          "title": {
           "x": 0.05
          },
          "xaxis": {
           "automargin": true,
           "gridcolor": "white",
           "linecolor": "white",
           "ticks": "",
           "title": {
            "standoff": 15
           },
           "zerolinecolor": "white",
           "zerolinewidth": 2
          },
          "yaxis": {
           "automargin": true,
           "gridcolor": "white",
           "linecolor": "white",
           "ticks": "",
           "title": {
            "standoff": 15
           },
           "zerolinecolor": "white",
           "zerolinewidth": 2
          }
         }
        },
        "xaxis": {
         "anchor": "y",
         "autorange": true,
         "domain": [
          0,
          1
         ],
         "range": [
          "2019-12-08 22:08:21.8321",
          "2021-02-20 00:29:38.1679"
         ],
         "title": {
          "text": "Date"
         },
         "type": "date"
        },
        "yaxis": {
         "anchor": "x",
         "autorange": true,
         "domain": [
          0,
          1
         ],
         "range": [
          -252192449355.43277,
          3825192449355.4326
         ],
         "title": {
          "text": "Time"
         },
         "type": "linear"
        }
       }
      },
      "image/png": "[encoded data removed]",
      "text/html": [
       "<div>                            <div id=\"34eb8524-4029-4d1c-8524-7fa7aa34cbd8\" class=\"plotly-graph-div\" style=\"height:525px; width:100%;\"></div>            <script type=\"text/javascript\">                require([\"plotly\"], function(Plotly) {                    window.PLOTLYENV=window.PLOTLYENV || {};                                    if (document.getElementById(\"34eb8524-4029-4d1c-8524-7fa7aa34cbd8\")) {                    Plotly.newPlot(                        \"34eb8524-4029-4d1c-8524-7fa7aa34cbd8\",                        [{\"hovertemplate\": \"Date=%{x}<br>Time=%{y}<extra></extra>\", \"legendgroup\": \"\", \"marker\": {\"color\": \"#636efa\", \"symbol\": \"circle\"}, \"mode\": \"markers\", \"name\": \"\", \"orientation\": \"v\", \"showlegend\": false, \"type\": \"scatter\", \"x\": [\"2021-01-27T13:39:00\", \"2021-01-24T08:51:00\", \"2021-01-23T12:25:00\", \"2021-01-22T13:31:00\", \"2021-01-21T13:03:00\", \"2021-01-19T13:33:00\", \"2021-01-18T13:22:00\", \"2021-01-17T09:33:00\", \"2021-01-15T16:02:00\", \"2021-01-13T13:35:00\", \"2021-01-12T13:35:00\", \"2021-01-11T12:59:00\", \"2021-01-10T09:37:00\", \"2021-01-09T09:21:00\", \"2021-01-07T13:29:00\", \"2021-01-05T07:50:00\", \"2021-01-03T09:48:00\", \"2021-01-02T09:20:00\", \"2021-01-01T09:37:00\", \"2020-12-31T09:24:00\", \"2020-12-30T09:28:00\", \"2020-12-29T10:00:00\", \"2020-12-28T08:43:00\", \"2020-12-27T12:16:00\", \"2020-12-26T12:37:00\", \"2020-12-25T09:06:00\", \"2020-12-24T07:29:00\", \"2020-12-23T07:30:00\", \"2020-12-22T07:35:00\", \"2020-12-20T08:18:00\", \"2020-12-19T08:24:00\", \"2020-12-17T07:35:00\", \"2020-12-16T07:27:00\", \"2020-12-13T08:00:00\", \"2020-12-12T08:41:00\", \"2020-12-11T07:24:00\", \"2020-12-10T07:25:00\", \"2020-12-09T07:24:00\", \"2020-12-06T14:26:00\", \"2020-12-05T09:46:00\", \"2020-12-04T13:33:00\", \"2020-12-02T07:22:00\", \"2020-12-01T07:25:00\", \"2020-11-29T08:45:00\", \"2020-11-27T07:27:00\", \"2020-11-25T07:22:00\", \"2020-11-24T07:33:00\", \"2020-11-22T09:44:00\", \"2020-11-21T08:30:00\", \"2020-11-20T07:28:00\", \"2020-11-18T07:26:00\", \"2020-11-16T07:35:00\", \"2020-11-11T08:31:00\", \"2020-11-09T09:44:00\", \"2020-11-08T08:29:00\", \"2020-11-07T08:25:00\", \"2020-11-04T14:31:00\", \"2020-11-01T08:17:00\", \"2020-10-29T07:53:00\", \"2020-10-28T08:41:00\", \"2020-10-27T09:47:00\", \"2020-10-24T07:53:00\", \"2020-10-23T07:23:00\", \"2020-10-22T07:24:00\", \"2020-10-21T18:06:00\", \"2020-10-20T18:12:00\", \"2020-10-18T11:21:00\", \"2020-10-17T08:28:00\", \"2020-10-16T07:27:00\", \"2020-10-15T07:28:00\", \"2020-10-14T07:22:00\", \"2020-10-13T07:30:00\", \"2020-10-11T08:30:00\", \"2020-10-10T08:21:00\", \"2020-10-09T07:11:00\", \"2020-10-08T07:24:00\", \"2020-10-07T07:22:00\", \"2020-10-06T07:28:00\", \"2020-10-04T16:21:00\", \"2020-10-03T12:27:00\", \"2020-10-02T07:24:00\", \"2020-10-01T17:46:00\", \"2020-09-30T07:30:00\", \"2020-09-29T18:30:00\", \"2020-09-27T08:43:00\", \"2020-09-26T09:11:00\", \"2020-09-25T18:35:00\", \"2020-09-24T18:17:00\", \"2020-09-23T07:24:00\", \"2020-09-22T11:32:00\", \"2020-09-18T07:13:00\", \"2020-09-17T07:22:00\", \"2020-09-16T18:25:00\", \"2020-09-15T07:16:00\", \"2020-09-13T08:32:00\", \"2020-09-12T07:55:00\", \"2020-09-11T18:20:00\", \"2020-09-09T18:25:00\", \"2020-09-08T07:38:00\", \"2020-09-06T08:35:00\", \"2020-09-05T08:05:00\", \"2020-09-04T18:27:00\", \"2020-09-03T18:25:00\", \"2020-09-02T18:23:00\", \"2020-09-01T07:28:00\", \"2020-08-31T09:33:00\", \"2020-08-29T09:22:00\", \"2020-08-28T07:29:00\", \"2020-08-27T07:26:00\", \"2020-08-24T18:31:00\", \"2020-08-23T08:37:00\", \"2020-08-18T07:55:00\", \"2020-08-17T08:11:00\", \"2020-08-16T14:46:00\", \"2020-08-15T19:01:00\", \"2020-08-14T18:39:00\", \"2020-08-08T08:25:00\", \"2020-08-06T07:32:00\", \"2020-08-05T07:30:00\", \"2020-08-04T07:24:00\", \"2020-08-03T18:20:00\", \"2020-08-01T09:14:00\", \"2020-07-31T07:21:00\", \"2020-07-30T07:31:00\", \"2020-07-28T17:54:00\", \"2020-07-27T07:31:00\", \"2020-07-25T08:36:00\", \"2020-07-24T18:38:00\", \"2020-07-23T07:26:00\", \"2020-07-22T18:09:00\", \"2020-07-21T07:31:00\", \"2020-07-19T08:49:00\", \"2020-07-18T08:32:00\", \"2020-07-17T18:37:00\", \"2020-07-16T18:24:00\", \"2020-07-13T18:37:00\", \"2020-07-12T08:32:00\", \"2020-07-11T08:35:00\", \"2020-07-09T18:24:00\", \"2020-07-07T18:21:00\", \"2020-07-06T18:17:00\", \"2020-07-05T11:43:00\", \"2020-07-04T09:34:00\", \"2020-07-03T18:32:00\", \"2020-07-02T18:07:00\", \"2020-06-30T18:04:00\", \"2020-06-29T21:38:00\", \"2020-06-21T12:07:00\", \"2020-06-20T08:40:00\", \"2020-06-18T18:21:00\", \"2020-06-16T18:21:00\", \"2020-06-15T18:28:00\", \"2020-06-14T08:39:00\", \"2020-06-13T17:46:00\", \"2020-06-11T17:34:00\", \"2020-06-10T19:00:00\", \"2020-06-09T07:38:00\", \"2020-06-08T18:29:00\", \"2020-06-07T08:34:00\", \"2020-06-06T08:20:00\", \"2020-06-05T07:31:00\", \"2020-06-04T07:28:00\", \"2020-06-02T07:34:00\", \"2020-06-01T07:21:00\", \"2020-05-31T08:16:00\", \"2020-05-30T08:18:00\", \"2020-05-29T07:32:00\", \"2020-05-28T07:20:00\", \"2020-05-27T18:22:00\", \"2020-05-25T08:17:00\", \"2020-05-24T08:34:00\", \"2020-05-23T09:22:00\", \"2020-05-23T08:24:00\", \"2020-05-22T07:34:00\", \"2020-05-21T18:43:00\", \"2020-05-20T07:35:00\", \"2020-05-19T18:29:00\", \"2020-05-18T18:23:00\", \"2020-05-16T08:38:00\", \"2020-05-15T18:17:00\", \"2020-05-14T18:30:00\", \"2020-05-13T18:17:00\", \"2020-05-12T18:18:00\", \"2020-05-11T18:28:00\", \"2020-05-10T08:34:00\", \"2020-05-09T08:20:00\", \"2020-05-08T08:33:00\", \"2020-05-07T07:38:00\", \"2020-05-06T10:43:00\", \"2020-05-05T18:20:00\", \"2020-05-04T18:30:00\", \"2020-05-03T08:52:00\", \"2020-05-02T08:36:00\", \"2020-05-01T07:54:00\", \"2020-04-30T07:26:00\", \"2020-04-29T07:14:00\", \"2020-04-28T13:44:00\", \"2020-04-27T19:48:00\", \"2020-04-26T08:49:00\", \"2020-04-25T08:43:00\", \"2020-04-24T18:03:00\", \"2020-04-23T08:01:00\", \"2020-04-22T18:08:00\", \"2020-04-21T18:27:00\", \"2020-04-20T18:13:00\", \"2020-04-20T12:47:00\", \"2020-04-19T09:21:00\", \"2020-04-18T12:32:00\", \"2020-04-16T17:43:00\", \"2020-04-15T18:27:00\", \"2020-04-14T18:21:00\", \"2020-04-13T12:55:00\", \"2020-04-12T10:54:00\", \"2020-04-11T08:50:00\", \"2020-04-10T08:59:00\", \"2020-04-09T17:40:00\", \"2020-04-08T07:27:00\", \"2020-04-07T08:19:00\", \"2020-04-06T08:05:00\", \"2020-04-05T08:54:00\", \"2020-04-04T08:18:00\", \"2020-04-03T18:06:00\", \"2020-04-01T17:40:00\", \"2020-03-31T12:58:00\", \"2020-03-30T16:58:00\", \"2020-03-29T11:41:00\", \"2020-03-28T09:59:00\", \"2020-03-27T07:51:00\", \"2020-03-26T16:33:00\", \"2020-03-25T16:30:00\", \"2020-03-24T16:41:00\", \"2020-03-22T16:43:00\", \"2020-03-21T13:04:00\", \"2020-03-15T11:26:00\", \"2020-03-14T09:05:00\", \"2020-03-14T08:10:00\", \"2020-03-08T08:31:00\", \"2020-03-07T08:45:00\", \"2020-03-01T09:05:00\", \"2020-02-29T09:09:00\", \"2020-02-29T08:06:00\", \"2020-02-23T09:09:00\", \"2020-02-22T09:07:00\", \"2020-02-22T08:17:00\", \"2020-02-16T09:32:00\", \"2020-02-15T09:04:00\", \"2020-02-15T08:19:00\", \"2020-02-09T15:45:00\", \"2020-02-08T09:08:00\", \"2020-02-08T08:17:00\", \"2020-02-02T08:41:00\", \"2020-02-01T09:09:00\", \"2020-02-01T08:52:00\", \"2020-02-01T08:19:00\", \"2020-01-26T15:17:00\", \"2020-01-25T09:06:00\", \"2020-01-25T08:21:00\", \"2020-01-11T09:06:00\", \"2020-01-05T09:08:00\", \"2020-01-04T09:06:00\", \"2020-01-01T11:04:00\", \"2020-01-01T10:35:00\", \"2020-01-01T08:59:00\"], \"xaxis\": \"x\", \"y\": [1786000000000, 1925000000000, 3321000000000, 1794000000000, 1744000000000, 1584000000000, 1740000000000, 3249000000000, 3461000000000, 1551000000000, 1897000000000, 1832000000000, 3373000000000, 3337000000000, 1941000000000, 1955000000000, 1941000000000, 3386000000000, 1909000000000, 3481000000000, 1947000000000, 3393000000000, 1962000000000, 3393000000000, 1889000000000, 3283000000000, 1918000000000, 1924000000000, 1901000000000, 3370000000000, 3354000000000, 1932000000000, 1919000000000, 1895000000000, 3405000000000, 1879000000000, 1895000000000, 1895000000000, 2352000000000, 3320000000000, 3326000000000, 1882000000000, 1885000000000, 3230000000000, 1874000000000, 1864000000000, 1858000000000, 2013000000000, 3213000000000, 1839000000000, 1129000000000, 1104000000000, 3249000000000, 3251000000000, 3172000000000, 3198000000000, 3217000000000, 3238000000000, 3219000000000, 3235000000000, 1941000000000, 3280000000000, 1908000000000, 1888000000000, 1709000000000, 1903000000000, 2071000000000, 3276000000000, 1887000000000, 1888000000000, 1895000000000, 1892000000000, 3270000000000, 3299000000000, 1871000000000, 1887000000000, 1886000000000, 1866000000000, 1744000000000, 3338000000000, 1851000000000, 1832000000000, 1853000000000, 1859000000000, 3225000000000, 3265000000000, 1978000000000, 1843000000000, 1861000000000, 1880000000000, 1851000000000, 1868000000000, 1983000000000, 1838000000000, 3270000000000, 1802000000000, 2775000000000, 1859000000000, 1829000000000, 3248000000000, 2627000000000, 1912000000000, 1929000000000, 1853000000000, 1868000000000, 3275000000000, 3237000000000, 1870000000000, 1855000000000, 1855000000000, 2797000000000, 756000000000, 2305000000000, 2361000000000, 1857000000000, 1825000000000, 3572000000000, 1862000000000, 1847000000000, 1845000000000, 1831000000000, 3121000000000, 1843000000000, 1865000000000, 1810000000000, 1749000000000, 3230000000000, 1848000000000, 1826000000000, 1825000000000, 1823000000000, 3224000000000, 3221000000000, 1138000000000, 1865000000000, 1808000000000, 3237000000000, 3246000000000, 1823000000000, 1840000000000, 1975000000000, 2621000000000, 2704000000000, 1832000000000, 1804000000000, 1788000000000, 1087000000000, 3279000000000, 3322000000000, 1798000000000, 1802000000000, 1976000000000, 3255000000000, 2605000000000, 1756000000000, 1195000000000, 2002000000000, 1810000000000, 3319000000000, 3218000000000, 1987000000000, 1843000000000, 1987000000000, 1996000000000, 3227000000000, 3222000000000, 1840000000000, 1994000000000, 1839000000000, 2796000000000, 3286000000000, 1000000000, 3291000000000, 1860000000000, 1472000000000, 1871000000000, 1603000000000, 1653000000000, 3282000000000, 1950000000000, 1476000000000, 2005000000000, 1885000000000, 1986000000000, 3234000000000, 2749000000000, 3214000000000, 1819000000000, 1839000000000, 2365000000000, 1892000000000, 3263000000000, 3245000000000, 1887000000000, 1892000000000, 1601000000000, 1911000000000, 2014000000000, 3273000000000, 3299000000000, 1824000000000, 2554000000000, 2002000000000, 1859000000000, 1607000000000, 1252000000000, 3116000000000, 1785000000000, 1830000000000, 1749000000000, 1998000000000, 1873000000000, 3138000000000, 2570000000000, 2788000000000, 1808000000000, 1840000000000, 1890000000000, 2768000000000, 1892000000000, 2373000000000, 1835000000000, 2386000000000, 1867000000000, 1947000000000, 2001000000000, 1832000000000, 1834000000000, 2113000000000, 1817000000000, 2059000000000, 1966000000000, 1855000000000, 1993000000000, 1478000000000, 1258000000000, 1982000000000, 1690000000000, 2593000000000, 1482000000000, 873000000000, 2374000000000, 1483000000000, 881000000000, 2598000000000, 1464000000000, 860000000000, 1969000000000, 1474000000000, 856000000000, 1966000000000, 1469000000000, 277000000000, 746000000000, 1968000000000, 1468000000000, 625000000000, 1496000000000, 2007000000000, 1534000000000, 871000000000, 1559000000000, 1585000000000], \"yaxis\": \"y\"}],                        {\"legend\": {\"tracegroupgap\": 0}, \"margin\": {\"t\": 60}, \"template\": {\"data\": {\"bar\": [{\"error_x\": {\"color\": \"#2a3f5f\"}, \"error_y\": {\"color\": \"#2a3f5f\"}, \"marker\": {\"line\": {\"color\": \"#E5ECF6\", \"width\": 0.5}}, \"type\": \"bar\"}], \"barpolar\": [{\"marker\": {\"line\": {\"color\": \"#E5ECF6\", \"width\": 0.5}}, \"type\": \"barpolar\"}], \"carpet\": [{\"aaxis\": {\"endlinecolor\": \"#2a3f5f\", \"gridcolor\": \"white\", \"linecolor\": \"white\", \"minorgridcolor\": \"white\", \"startlinecolor\": \"#2a3f5f\"}, \"baxis\": {\"endlinecolor\": \"#2a3f5f\", \"gridcolor\": \"white\", \"linecolor\": \"white\", \"minorgridcolor\": \"white\", \"startlinecolor\": \"#2a3f5f\"}, \"type\": \"carpet\"}], \"choropleth\": [{\"colorbar\": {\"outlinewidth\": 0, \"ticks\": \"\"}, \"type\": \"choropleth\"}], \"contour\": [{\"colorbar\": {\"outlinewidth\": 0, \"ticks\": \"\"}, \"colorscale\": [[0.0, \"#0d0887\"], [0.1111111111111111, \"#46039f\"], [0.2222222222222222, \"#7201a8\"], [0.3333333333333333, \"#9c179e\"], [0.4444444444444444, \"#bd3786\"], [0.5555555555555556, \"#d8576b\"], [0.6666666666666666, \"#ed7953\"], [0.7777777777777778, \"#fb9f3a\"], [0.8888888888888888, \"#fdca26\"], [1.0, \"#f0f921\"]], \"type\": \"contour\"}], \"contourcarpet\": [{\"colorbar\": {\"outlinewidth\": 0, \"ticks\": \"\"}, \"type\": \"contourcarpet\"}], \"heatmap\": [{\"colorbar\": {\"outlinewidth\": 0, \"ticks\": \"\"}, \"colorscale\": [[0.0, \"#0d0887\"], [0.1111111111111111, \"#46039f\"], [0.2222222222222222, \"#7201a8\"], [0.3333333333333333, \"#9c179e\"], [0.4444444444444444, \"#bd3786\"], [0.5555555555555556, \"#d8576b\"], [0.6666666666666666, \"#ed7953\"], [0.7777777777777778, \"#fb9f3a\"], [0.8888888888888888, \"#fdca26\"], [1.0, \"#f0f921\"]], \"type\": \"heatmap\"}], \"heatmapgl\": [{\"colorbar\": {\"outlinewidth\": 0, \"ticks\": \"\"}, \"colorscale\": [[0.0, \"#0d0887\"], [0.1111111111111111, \"#46039f\"], [0.2222222222222222, \"#7201a8\"], [0.3333333333333333, \"#9c179e\"], [0.4444444444444444, \"#bd3786\"], [0.5555555555555556, \"#d8576b\"], [0.6666666666666666, \"#ed7953\"], [0.7777777777777778, \"#fb9f3a\"], [0.8888888888888888, \"#fdca26\"], [1.0, \"#f0f921\"]], \"type\": \"heatmapgl\"}], \"histogram\": [{\"marker\": {\"colorbar\": {\"outlinewidth\": 0, \"ticks\": \"\"}}, \"type\": \"histogram\"}], \"histogram2d\": [{\"colorbar\": {\"outlinewidth\": 0, \"ticks\": \"\"}, \"colorscale\": [[0.0, \"#0d0887\"], [0.1111111111111111, \"#46039f\"], [0.2222222222222222, \"#7201a8\"], [0.3333333333333333, \"#9c179e\"], [0.4444444444444444, \"#bd3786\"], [0.5555555555555556, \"#d8576b\"], [0.6666666666666666, \"#ed7953\"], [0.7777777777777778, \"#fb9f3a\"], [0.8888888888888888, \"#fdca26\"], [1.0, \"#f0f921\"]], \"type\": \"histogram2d\"}], \"histogram2dcontour\": [{\"colorbar\": {\"outlinewidth\": 0, \"ticks\": \"\"}, \"colorscale\": [[0.0, \"#0d0887\"], [0.1111111111111111, \"#46039f\"], [0.2222222222222222, \"#7201a8\"], [0.3333333333333333, \"#9c179e\"], [0.4444444444444444, \"#bd3786\"], [0.5555555555555556, \"#d8576b\"], [0.6666666666666666, \"#ed7953\"], [0.7777777777777778, \"#fb9f3a\"], [0.8888888888888888, \"#fdca26\"], [1.0, \"#f0f921\"]], \"type\": \"histogram2dcontour\"}], \"mesh3d\": [{\"colorbar\": {\"outlinewidth\": 0, \"ticks\": \"\"}, \"type\": \"mesh3d\"}], \"parcoords\": [{\"line\": {\"colorbar\": {\"outlinewidth\": 0, \"ticks\": \"\"}}, \"type\": \"parcoords\"}], \"pie\": [{\"automargin\": true, \"type\": \"pie\"}], \"scatter\": [{\"marker\": {\"colorbar\": {\"outlinewidth\": 0, \"ticks\": \"\"}}, \"type\": \"scatter\"}], \"scatter3d\": [{\"line\": {\"colorbar\": {\"outlinewidth\": 0, \"ticks\": \"\"}}, \"marker\": {\"colorbar\": {\"outlinewidth\": 0, \"ticks\": \"\"}}, \"type\": \"scatter3d\"}], \"scattercarpet\": [{\"marker\": {\"colorbar\": {\"outlinewidth\": 0, \"ticks\": \"\"}}, \"type\": \"scattercarpet\"}], \"scattergeo\": [{\"marker\": {\"colorbar\": {\"outlinewidth\": 0, \"ticks\": \"\"}}, \"type\": \"scattergeo\"}], \"scattergl\": [{\"marker\": {\"colorbar\": {\"outlinewidth\": 0, \"ticks\": \"\"}}, \"type\": \"scattergl\"}], \"scattermapbox\": [{\"marker\": {\"colorbar\": {\"outlinewidth\": 0, \"ticks\": \"\"}}, \"type\": \"scattermapbox\"}], \"scatterpolar\": [{\"marker\": {\"colorbar\": {\"outlinewidth\": 0, \"ticks\": \"\"}}, \"type\": \"scatterpolar\"}], \"scatterpolargl\": [{\"marker\": {\"colorbar\": {\"outlinewidth\": 0, \"ticks\": \"\"}}, \"type\": \"scatterpolargl\"}], \"scatterternary\": [{\"marker\": {\"colorbar\": {\"outlinewidth\": 0, \"ticks\": \"\"}}, \"type\": \"scatterternary\"}], \"surface\": [{\"colorbar\": {\"outlinewidth\": 0, \"ticks\": \"\"}, \"colorscale\": [[0.0, \"#0d0887\"], [0.1111111111111111, \"#46039f\"], [0.2222222222222222, \"#7201a8\"], [0.3333333333333333, \"#9c179e\"], [0.4444444444444444, \"#bd3786\"], [0.5555555555555556, \"#d8576b\"], [0.6666666666666666, \"#ed7953\"], [0.7777777777777778, \"#fb9f3a\"], [0.8888888888888888, \"#fdca26\"], [1.0, \"#f0f921\"]], \"type\": \"surface\"}], \"table\": [{\"cells\": {\"fill\": {\"color\": \"#EBF0F8\"}, \"line\": {\"color\": \"white\"}}, \"header\": {\"fill\": {\"color\": \"#C8D4E3\"}, \"line\": {\"color\": \"white\"}}, \"type\": \"table\"}]}, \"layout\": {\"annotationdefaults\": {\"arrowcolor\": \"#2a3f5f\", \"arrowhead\": 0, \"arrowwidth\": 1}, \"autotypenumbers\": \"strict\", \"coloraxis\": {\"colorbar\": {\"outlinewidth\": 0, \"ticks\": \"\"}}, \"colorscale\": {\"diverging\": [[0, \"#8e0152\"], [0.1, \"#c51b7d\"], [0.2, \"#de77ae\"], [0.3, \"#f1b6da\"], [0.4, \"#fde0ef\"], [0.5, \"#f7f7f7\"], [0.6, \"#e6f5d0\"], [0.7, \"#b8e186\"], [0.8, \"#7fbc41\"], [0.9, \"#4d9221\"], [1, \"#276419\"]], \"sequential\": [[0.0, \"#0d0887\"], [0.1111111111111111, \"#46039f\"], [0.2222222222222222, \"#7201a8\"], [0.3333333333333333, \"#9c179e\"], [0.4444444444444444, \"#bd3786\"], [0.5555555555555556, \"#d8576b\"], [0.6666666666666666, \"#ed7953\"], [0.7777777777777778, \"#fb9f3a\"], [0.8888888888888888, \"#fdca26\"], [1.0, \"#f0f921\"]], \"sequentialminus\": [[0.0, \"#0d0887\"], [0.1111111111111111, \"#46039f\"], [0.2222222222222222, \"#7201a8\"], [0.3333333333333333, \"#9c179e\"], [0.4444444444444444, \"#bd3786\"], [0.5555555555555556, \"#d8576b\"], [0.6666666666666666, \"#ed7953\"], [0.7777777777777778, \"#fb9f3a\"], [0.8888888888888888, \"#fdca26\"], [1.0, \"#f0f921\"]]}, \"colorway\": [\"#636efa\", \"#EF553B\", \"#00cc96\", \"#ab63fa\", \"#FFA15A\", \"#19d3f3\", \"#FF6692\", \"#B6E880\", \"#FF97FF\", \"#FECB52\"], \"font\": {\"color\": \"#2a3f5f\"}, \"geo\": {\"bgcolor\": \"white\", \"lakecolor\": \"white\", \"landcolor\": \"#E5ECF6\", \"showlakes\": true, \"showland\": true, \"subunitcolor\": \"white\"}, \"hoverlabel\": {\"align\": \"left\"}, \"hovermode\": \"closest\", \"mapbox\": {\"style\": \"light\"}, \"paper_bgcolor\": \"white\", \"plot_bgcolor\": \"#E5ECF6\", \"polar\": {\"angularaxis\": {\"gridcolor\": \"white\", \"linecolor\": \"white\", \"ticks\": \"\"}, \"bgcolor\": \"#E5ECF6\", \"radialaxis\": {\"gridcolor\": \"white\", \"linecolor\": \"white\", \"ticks\": \"\"}}, \"scene\": {\"xaxis\": {\"backgroundcolor\": \"#E5ECF6\", \"gridcolor\": \"white\", \"gridwidth\": 2, \"linecolor\": \"white\", \"showbackground\": true, \"ticks\": \"\", \"zerolinecolor\": \"white\"}, \"yaxis\": {\"backgroundcolor\": \"#E5ECF6\", \"gridcolor\": \"white\", \"gridwidth\": 2, \"linecolor\": \"white\", \"showbackground\": true, \"ticks\": \"\", \"zerolinecolor\": \"white\"}, \"zaxis\": {\"backgroundcolor\": \"#E5ECF6\", \"gridcolor\": \"white\", \"gridwidth\": 2, \"linecolor\": \"white\", \"showbackground\": true, \"ticks\": \"\", \"zerolinecolor\": \"white\"}}, \"shapedefaults\": {\"line\": {\"color\": \"#2a3f5f\"}}, \"ternary\": {\"aaxis\": {\"gridcolor\": \"white\", \"linecolor\": \"white\", \"ticks\": \"\"}, \"baxis\": {\"gridcolor\": \"white\", \"linecolor\": \"white\", \"ticks\": \"\"}, \"bgcolor\": \"#E5ECF6\", \"caxis\": {\"gridcolor\": \"white\", \"linecolor\": \"white\", \"ticks\": \"\"}}, \"title\": {\"x\": 0.05}, \"xaxis\": {\"automargin\": true, \"gridcolor\": \"white\", \"linecolor\": \"white\", \"ticks\": \"\", \"title\": {\"standoff\": 15}, \"zerolinecolor\": \"white\", \"zerolinewidth\": 2}, \"yaxis\": {\"automargin\": true, \"gridcolor\": \"white\", \"linecolor\": \"white\", \"ticks\": \"\", \"title\": {\"standoff\": 15}, \"zerolinecolor\": \"white\", \"zerolinewidth\": 2}}}, \"xaxis\": {\"anchor\": \"y\", \"domain\": [0.0, 1.0], \"title\": {\"text\": \"Date\"}}, \"yaxis\": {\"anchor\": \"x\", \"domain\": [0.0, 1.0], \"title\": {\"text\": \"Time\"}}},                        {\"responsive\": true}                    ).then(function(){\n",
       "                            \n",
       "var gd = document.getElementById('34eb8524-4029-4d1c-8524-7fa7aa34cbd8');\n",
       "var x = new MutationObserver(function (mutations, observer) {{\n",
       "        var display = window.getComputedStyle(gd).display;\n",
       "        if (!display || display === 'none') {{\n",
       "            console.log([gd, 'removed!']);\n",
       "            Plotly.purge(gd);\n",
       "            observer.disconnect();\n",
       "        }}\n",
       "}});\n",
       "\n",
       "// Listen for the removal of the full notebook cells\n",
       "var notebookContainer = gd.closest('#notebook-container');\n",
       "if (notebookContainer) {{\n",
       "    x.observe(notebookContainer, {childList: true});\n",
       "}}\n",
       "\n",
       "// Listen for the clearing of the current output cell\n",
       "var outputEl = gd.closest('.output');\n",
       "if (outputEl) {{\n",
       "    x.observe(outputEl, {childList: true});\n",
       "}}\n",
       "\n",
       "                        })                };                });            </script>        </div>"
      ]
     },
     "metadata": {},
     "output_type": "display_data"
    }
   ],
   "source": [
    "fig = px.scatter(data1[data1['Date']>'2020-01-01'], x='Date',y='Time')\n",
    "fig.show()"
   ]
  },
  {
   "cell_type": "code",
   "execution_count": 91,
   "metadata": {},
   "outputs": [
    {
     "data": {
      "text/plain": [
       "Activity Type                       object\n",
       "Date                        datetime64[ns]\n",
       "Title                               object\n",
       "Distance                           float64\n",
       "Calories                           float64\n",
       "Time                                object\n",
       "Avg HR                               int64\n",
       "Max HR                               int64\n",
       "Aerobic TE                         float64\n",
       "Avg Run Cadence                    float64\n",
       "Max Run Cadence                    float64\n",
       "Avg Pace                            object\n",
       "Best Pace                           object\n",
       "Elev Gain                          float64\n",
       "Elev Loss                          float64\n",
       "Avg Stride Length                  float64\n",
       "Avg Vertical Ratio                 float64\n",
       "Avg Vertical Oscillation           float64\n",
       "Avg Ground Contact Time            float64\n",
       "Avg GCT Balance                     object\n",
       "Training Stress Score®               int64\n",
       "Climb Time                          object\n",
       "Best Lap Time                       object\n",
       "Number of Laps                       int64\n",
       "dtype: object"
      ]
     },
     "execution_count": 91,
     "metadata": {},
     "output_type": "execute_result"
    }
   ],
   "source": []
  },
  {
   "cell_type": "code",
   "execution_count": null,
   "metadata": {},
   "outputs": [],
   "source": []
  }
 ],
 "metadata": {
  "kernelspec": {
   "display_name": "Python 3",
   "language": "python",
   "name": "python3"
  },
  "language_info": {
   "codemirror_mode": {
    "name": "ipython",
    "version": 3
   },
   "file_extension": ".py",
   "mimetype": "text/x-python",
   "name": "python",
   "nbconvert_exporter": "python",
   "pygments_lexer": "ipython3",
   "version": "3.9.0"
  }
 },
 "nbformat": 4,
 "nbformat_minor": 4
}
